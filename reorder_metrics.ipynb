{
 "cells": [
  {
   "cell_type": "code",
   "execution_count": 1,
   "metadata": {},
   "outputs": [],
   "source": [
    "import pandas as pd"
   ]
  },
  {
   "cell_type": "code",
   "execution_count": 23,
   "metadata": {},
   "outputs": [],
   "source": [
    "path = \"/home/lucia/Documenti/GitHub/cloud-computing-project/jmeter/test_medium/10/\"\n",
    "df_cpu = pd.read_json(path + \"data_cpu.json\", orient=\"records\")\n",
    "df_instances = pd.read_json(path + \"data_number_instances.json\", orient=\"records\")\n",
    "df_cpu = df_cpu.sort_values(\"Timestamp\").reset_index(drop=True)\n",
    "df_instances = df_instances.sort_values(\"Timestamp\").reset_index(drop=True)\n",
    "df_cpu.to_csv(path + \"data_cpu.csv\", index=False)\n",
    "df_instances.to_csv(path + \"data_number_instances.csv\", index=False)"
   ]
  }
 ],
 "metadata": {
  "kernelspec": {
   "display_name": "cloud",
   "language": "python",
   "name": "python3"
  },
  "language_info": {
   "codemirror_mode": {
    "name": "ipython",
    "version": 3
   },
   "file_extension": ".py",
   "mimetype": "text/x-python",
   "name": "python",
   "nbconvert_exporter": "python",
   "pygments_lexer": "ipython3",
   "version": "3.9.16"
  },
  "orig_nbformat": 4
 },
 "nbformat": 4,
 "nbformat_minor": 2
}
