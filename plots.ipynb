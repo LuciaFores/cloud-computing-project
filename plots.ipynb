{
 "cells": [
  {
   "cell_type": "code",
   "execution_count": 13,
   "metadata": {},
   "outputs": [],
   "source": [
    "import pandas as pd\n",
    "import numpy as np\n",
    "import matplotlib.pyplot as plt"
   ]
  },
  {
   "cell_type": "code",
   "execution_count": 2,
   "metadata": {},
   "outputs": [],
   "source": [
    "sizes = ['test_large/', 'test_medium/']\n",
    "tests = ['01/', '02/', '03/', '04/', '05/', '06/', '07/', '08/', '09/', '10/']\n",
    "path = '/home/lucia/Documenti/GitHub/cloud-computing-project/jmeter/'"
   ]
  },
  {
   "cell_type": "code",
   "execution_count": 3,
   "metadata": {},
   "outputs": [],
   "source": [
    "avg_cpu_df = pd.DataFrame(index=np.arange(16), columns=['average_cpu'])\n",
    "avg_cpu_df['average_cpu'] = 0\n",
    "avg_inst_df = pd.DataFrame(index=np.arange(24), columns=['average_instance_number'])\n",
    "avg_inst_df['average_instance_number'] = 0"
   ]
  },
  {
   "cell_type": "code",
   "execution_count": 4,
   "metadata": {},
   "outputs": [],
   "source": [
    "for size in sizes:\n",
    "    path_size = path\n",
    "    path_size += size\n",
    "    for test in tests:\n",
    "        path_test = path_size\n",
    "        path_test += test\n",
    "        cpu_df = pd.read_csv(path_test + \"data_cpu.csv\")\n",
    "        avg_cpu_df = pd.concat([avg_cpu_df, cpu_df], axis=1)\n",
    "        avg_cpu_df['average_cpu'] = avg_cpu_df['average_cpu'] + avg_cpu_df['Average']\n",
    "        avg_cpu_df = avg_cpu_df[['average_cpu']]\n",
    "        inst_df = pd.read_csv(path_test + 'data_number_instances.csv')\n",
    "        avg_inst_df = pd.concat([avg_inst_df, inst_df], axis=1)\n",
    "        avg_inst_df['average_instance_number'] = avg_inst_df['average_instance_number'] + avg_inst_df['Average']\n",
    "        avg_inst_df = avg_inst_df[['average_instance_number']]\n",
    "    avg_cpu_df['average_cpu'] = avg_cpu_df['average_cpu'] / 10\n",
    "    fig, ax = plt.subplots()\n",
    "    ax.plot(avg_cpu_df.index, avg_cpu_df['average_cpu'])\n",
    "    ax.set_xlabel('Time (minutes)')\n",
    "    ax.set_ylabel('Average CPU Utilization')\n",
    "    ax.grid(True)\n",
    "    plt.savefig(path_size + 'avg_cpu.svg')\n",
    "    avg_inst_df['average_instance_number'] = avg_inst_df['average_instance_number'] / 10\n",
    "    fig, ax = plt.subplots()\n",
    "    ax.plot(avg_inst_df.index, avg_inst_df['average_instance_number'])\n",
    "    ax.set_xlabel('Time (minutes)')\n",
    "    ax.set_ylabel('Average number of running instances')\n",
    "    ax.grid(True)\n",
    "    plt.savefig(path_size + 'avg_instance_number.svg')"
   ]
  }
 ],
 "metadata": {
  "kernelspec": {
   "display_name": "cloud",
   "language": "python",
   "name": "python3"
  },
  "language_info": {
   "codemirror_mode": {
    "name": "ipython",
    "version": 3
   },
   "file_extension": ".py",
   "mimetype": "text/x-python",
   "name": "python",
   "nbconvert_exporter": "python",
   "pygments_lexer": "ipython3",
   "version": "3.9.16"
  },
  "orig_nbformat": 4
 },
 "nbformat": 4,
 "nbformat_minor": 2
}
